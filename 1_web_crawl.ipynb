{
 "cells": [
  {
   "cell_type": "markdown",
   "metadata": {},
   "source": [
    "1. 데이터 크롤링으로 데이터 구하기   \n",
    "- 음악 사이트 벅스(bugs.co.kr)에서 가수를 지정해 가사를 크롤링하는 코드를 구현해보았다."
   ]
  },
  {
   "cell_type": "code",
   "execution_count": 1,
   "metadata": {},
   "outputs": [],
   "source": [
    "#라이브러리 불러오기\n",
    "from selenium import webdriver\n",
    "import time\n",
    "import re"
   ]
  },
  {
   "cell_type": "code",
   "execution_count": 2,
   "metadata": {},
   "outputs": [
    {
     "name": "stderr",
     "output_type": "stream",
     "text": [
      "C:\\Users\\zekca\\AppData\\Local\\Temp/ipykernel_20352/1659555645.py:20: DeprecationWarning: find_element_by_* commands are deprecated. Please use find_element() instead\n",
      "  driver.find_element_by_xpath('//*[@id=\"loginHeader\"]/a').click()\n",
      "C:\\Users\\zekca\\AppData\\Local\\Temp/ipykernel_20352/1659555645.py:21: DeprecationWarning: find_element_by_* commands are deprecated. Please use find_element() instead\n",
      "  driver.find_element_by_xpath('//*[@id=\"to_bugs_login\"]').click()\n",
      "C:\\Users\\zekca\\AppData\\Local\\Temp/ipykernel_20352/1659555645.py:22: DeprecationWarning: find_element_by_* commands are deprecated. Please use find_element() instead\n",
      "  driver.find_element_by_xpath('//*[@id=\"user_id\"]').send_keys(id)\n",
      "C:\\Users\\zekca\\AppData\\Local\\Temp/ipykernel_20352/1659555645.py:23: DeprecationWarning: find_element_by_* commands are deprecated. Please use find_element() instead\n",
      "  driver.find_element_by_xpath('//*[@id=\"passwd\"]').send_keys(pw)\n",
      "C:\\Users\\zekca\\AppData\\Local\\Temp/ipykernel_20352/1659555645.py:24: DeprecationWarning: find_element_by_* commands are deprecated. Please use find_element() instead\n",
      "  driver.find_element_by_xpath('//*[@id=\"frmLoginLayer\"]/div/div[1]/button').click()\n",
      "C:\\Users\\zekca\\AppData\\Local\\Temp/ipykernel_20352/1659555645.py:31: DeprecationWarning: find_element_by_* commands are deprecated. Please use find_element() instead\n",
      "  driver.find_element_by_xpath('//*[@id=\"headerSearchInput\"]').send_keys(singer)\n",
      "C:\\Users\\zekca\\AppData\\Local\\Temp/ipykernel_20352/1659555645.py:32: DeprecationWarning: find_element_by_* commands are deprecated. Please use find_element() instead\n",
      "  driver.find_element_by_xpath('//*[@id=\"hederSearchFormButton\"]').click()\n",
      "C:\\Users\\zekca\\AppData\\Local\\Temp/ipykernel_20352/1659555645.py:35: DeprecationWarning: find_element_by_* commands are deprecated. Please use find_element() instead\n",
      "  driver.find_element_by_xpath('//*[@id=\"container\"]/section/div/fieldset/div/table/tbody/tr/td[2]/a').click()\n",
      "C:\\Users\\zekca\\AppData\\Local\\Temp/ipykernel_20352/1659555645.py:36: DeprecationWarning: find_element_by_* commands are deprecated. Please use find_element() instead\n",
      "  driver.find_element_by_xpath('//*[@id=\"additional04\"]').click()\n",
      "C:\\Users\\zekca\\AppData\\Local\\Temp/ipykernel_20352/1659555645.py:41: DeprecationWarning: find_element_by_* commands are deprecated. Please use find_element() instead\n",
      "  total_song_count = driver.find_element_by_xpath('//*[@id=\"container\"]/section/div/fieldset/div/table/tbody/tr/td[2]/a').text\n",
      "C:\\Users\\zekca\\AppData\\Local\\Temp/ipykernel_20352/1659555645.py:51: DeprecationWarning: find_element_by_* commands are deprecated. Please use find_element() instead\n",
      "  driver.find_element_by_xpath(f'//*[@id=\"DEFAULT0\"]/table/tbody/tr[{i}]/td[3]/a').click()\n"
     ]
    },
    {
     "name": "stdout",
     "output_type": "stream",
     "text": [
      "총 노래의 수 :  163\n"
     ]
    },
    {
     "name": "stderr",
     "output_type": "stream",
     "text": [
      "C:\\Users\\zekca\\AppData\\Local\\Temp/ipykernel_20352/1659555645.py:52: DeprecationWarning: find_element_by_* commands are deprecated. Please use find_element() instead\n",
      "  lyric_container = driver.find_element_by_xpath('//*[@id=\"container\"]/section[2]/div/div').text\n"
     ]
    },
    {
     "name": "stdout",
     "output_type": "stream",
     "text": [
      "1페이지 탐색 완료\n",
      "총 곡 수와 크롤링한 곡 수 다름. 추가 탐색 진행\n",
      "2p 탐색\n",
      "총 곡 수와 크롤링한 곡 수 다름. 추가 탐색 진행\n",
      "3p 탐색\n",
      "총 곡 수와 크롤링한 곡 수 다름. 추가 탐색 진행\n",
      "4p 탐색\n"
     ]
    },
    {
     "ename": "NoSuchElementException",
     "evalue": "Message: no such element: Unable to locate element: {\"method\":\"xpath\",\"selector\":\"//*[@id=\"DEFAULT0\"]/table/tbody/tr[14]/td[3]/a\"}\n  (Session info: chrome=97.0.4692.71)\nStacktrace:\nBacktrace:\n\tOrdinal0 [0x00976903+2517251]\n\tOrdinal0 [0x0090F8E1+2095329]\n\tOrdinal0 [0x00812848+1058888]\n\tOrdinal0 [0x0083D448+1233992]\n\tOrdinal0 [0x0083D63B+1234491]\n\tOrdinal0 [0x00867812+1406994]\n\tOrdinal0 [0x0085650A+1336586]\n\tOrdinal0 [0x00865BBF+1399743]\n\tOrdinal0 [0x0085639B+1336219]\n\tOrdinal0 [0x008327A7+1189799]\n\tOrdinal0 [0x00833609+1193481]\n\tGetHandleVerifier [0x00B05904+1577972]\n\tGetHandleVerifier [0x00BB0B97+2279047]\n\tGetHandleVerifier [0x00A06D09+534521]\n\tGetHandleVerifier [0x00A05DB9+530601]\n\tOrdinal0 [0x00914FF9+2117625]\n\tOrdinal0 [0x009198A8+2136232]\n\tOrdinal0 [0x009199E2+2136546]\n\tOrdinal0 [0x00923541+2176321]\n\tBaseThreadInitThunk [0x75AAFA29+25]\n\tRtlGetAppContainerNamedObjectPath [0x77C37A9E+286]\n\tRtlGetAppContainerNamedObjectPath [0x77C37A6E+238]\n",
     "output_type": "error",
     "traceback": [
      "\u001b[1;31m---------------------------------------------------------------------------\u001b[0m",
      "\u001b[1;31mNoSuchElementException\u001b[0m                    Traceback (most recent call last)",
      "\u001b[1;32m~\\AppData\\Local\\Temp/ipykernel_20352/1659555645.py\u001b[0m in \u001b[0;36m<module>\u001b[1;34m\u001b[0m\n\u001b[0;32m     66\u001b[0m     \u001b[0murl\u001b[0m \u001b[1;33m=\u001b[0m \u001b[1;34mf'https://music.bugs.co.kr/search/track?q={singer}&sort=A&page={page}&query={singer}&target=ARTIST_ONLY&flac_only=false'\u001b[0m\u001b[1;33m\u001b[0m\u001b[1;33m\u001b[0m\u001b[0m\n\u001b[0;32m     67\u001b[0m     \u001b[0mdriver\u001b[0m\u001b[1;33m.\u001b[0m\u001b[0mget\u001b[0m\u001b[1;33m(\u001b[0m\u001b[0murl\u001b[0m\u001b[1;33m)\u001b[0m\u001b[1;33m\u001b[0m\u001b[1;33m\u001b[0m\u001b[0m\n\u001b[1;32m---> 68\u001b[1;33m     \u001b[0mget_lyrics\u001b[0m\u001b[1;33m(\u001b[0m\u001b[1;33m)\u001b[0m\u001b[1;33m\u001b[0m\u001b[1;33m\u001b[0m\u001b[0m\n\u001b[0m\u001b[0;32m     69\u001b[0m \u001b[1;33m\u001b[0m\u001b[0m\n\u001b[0;32m     70\u001b[0m \u001b[1;31m#종료\u001b[0m\u001b[1;33m\u001b[0m\u001b[1;33m\u001b[0m\u001b[1;33m\u001b[0m\u001b[0m\n",
      "\u001b[1;32m~\\AppData\\Local\\Temp/ipykernel_20352/1659555645.py\u001b[0m in \u001b[0;36mget_lyrics\u001b[1;34m()\u001b[0m\n\u001b[0;32m     49\u001b[0m \u001b[1;32mdef\u001b[0m \u001b[0mget_lyrics\u001b[0m\u001b[1;33m(\u001b[0m\u001b[1;33m)\u001b[0m\u001b[1;33m:\u001b[0m\u001b[1;33m\u001b[0m\u001b[1;33m\u001b[0m\u001b[0m\n\u001b[0;32m     50\u001b[0m     \u001b[1;32mfor\u001b[0m \u001b[0mi\u001b[0m \u001b[1;32min\u001b[0m \u001b[0mrange\u001b[0m\u001b[1;33m(\u001b[0m\u001b[1;36m1\u001b[0m\u001b[1;33m,\u001b[0m \u001b[1;36m51\u001b[0m\u001b[1;33m)\u001b[0m\u001b[1;33m:\u001b[0m\u001b[1;33m\u001b[0m\u001b[1;33m\u001b[0m\u001b[0m\n\u001b[1;32m---> 51\u001b[1;33m         \u001b[0mdriver\u001b[0m\u001b[1;33m.\u001b[0m\u001b[0mfind_element_by_xpath\u001b[0m\u001b[1;33m(\u001b[0m\u001b[1;34mf'//*[@id=\"DEFAULT0\"]/table/tbody/tr[{i}]/td[3]/a'\u001b[0m\u001b[1;33m)\u001b[0m\u001b[1;33m.\u001b[0m\u001b[0mclick\u001b[0m\u001b[1;33m(\u001b[0m\u001b[1;33m)\u001b[0m\u001b[1;33m\u001b[0m\u001b[1;33m\u001b[0m\u001b[0m\n\u001b[0m\u001b[0;32m     52\u001b[0m         \u001b[0mlyric_container\u001b[0m \u001b[1;33m=\u001b[0m \u001b[0mdriver\u001b[0m\u001b[1;33m.\u001b[0m\u001b[0mfind_element_by_xpath\u001b[0m\u001b[1;33m(\u001b[0m\u001b[1;34m'//*[@id=\"container\"]/section[2]/div/div'\u001b[0m\u001b[1;33m)\u001b[0m\u001b[1;33m.\u001b[0m\u001b[0mtext\u001b[0m\u001b[1;33m\u001b[0m\u001b[1;33m\u001b[0m\u001b[0m\n\u001b[0;32m     53\u001b[0m         \u001b[0mlyrics\u001b[0m\u001b[1;33m.\u001b[0m\u001b[0mappend\u001b[0m\u001b[1;33m(\u001b[0m\u001b[0mlyric_container\u001b[0m\u001b[1;33m)\u001b[0m\u001b[1;33m\u001b[0m\u001b[1;33m\u001b[0m\u001b[0m\n",
      "\u001b[1;32m~\\anaconda3\\envs\\section4project\\lib\\site-packages\\selenium\\webdriver\\remote\\webdriver.py\u001b[0m in \u001b[0;36mfind_element_by_xpath\u001b[1;34m(self, xpath)\u001b[0m\n\u001b[0;32m    518\u001b[0m             \u001b[0mstacklevel\u001b[0m\u001b[1;33m=\u001b[0m\u001b[1;36m2\u001b[0m\u001b[1;33m,\u001b[0m\u001b[1;33m\u001b[0m\u001b[1;33m\u001b[0m\u001b[0m\n\u001b[0;32m    519\u001b[0m         )\n\u001b[1;32m--> 520\u001b[1;33m         \u001b[1;32mreturn\u001b[0m \u001b[0mself\u001b[0m\u001b[1;33m.\u001b[0m\u001b[0mfind_element\u001b[0m\u001b[1;33m(\u001b[0m\u001b[0mby\u001b[0m\u001b[1;33m=\u001b[0m\u001b[0mBy\u001b[0m\u001b[1;33m.\u001b[0m\u001b[0mXPATH\u001b[0m\u001b[1;33m,\u001b[0m \u001b[0mvalue\u001b[0m\u001b[1;33m=\u001b[0m\u001b[0mxpath\u001b[0m\u001b[1;33m)\u001b[0m\u001b[1;33m\u001b[0m\u001b[1;33m\u001b[0m\u001b[0m\n\u001b[0m\u001b[0;32m    521\u001b[0m \u001b[1;33m\u001b[0m\u001b[0m\n\u001b[0;32m    522\u001b[0m     \u001b[1;32mdef\u001b[0m \u001b[0mfind_elements_by_xpath\u001b[0m\u001b[1;33m(\u001b[0m\u001b[0mself\u001b[0m\u001b[1;33m,\u001b[0m \u001b[0mxpath\u001b[0m\u001b[1;33m)\u001b[0m \u001b[1;33m->\u001b[0m \u001b[0mWebElement\u001b[0m\u001b[1;33m:\u001b[0m\u001b[1;33m\u001b[0m\u001b[1;33m\u001b[0m\u001b[0m\n",
      "\u001b[1;32m~\\anaconda3\\envs\\section4project\\lib\\site-packages\\selenium\\webdriver\\remote\\webdriver.py\u001b[0m in \u001b[0;36mfind_element\u001b[1;34m(self, by, value)\u001b[0m\n\u001b[0;32m   1242\u001b[0m             \u001b[0mvalue\u001b[0m \u001b[1;33m=\u001b[0m \u001b[1;34m'[name=\"%s\"]'\u001b[0m \u001b[1;33m%\u001b[0m \u001b[0mvalue\u001b[0m\u001b[1;33m\u001b[0m\u001b[1;33m\u001b[0m\u001b[0m\n\u001b[0;32m   1243\u001b[0m \u001b[1;33m\u001b[0m\u001b[0m\n\u001b[1;32m-> 1244\u001b[1;33m         return self.execute(Command.FIND_ELEMENT, {\n\u001b[0m\u001b[0;32m   1245\u001b[0m             \u001b[1;34m'using'\u001b[0m\u001b[1;33m:\u001b[0m \u001b[0mby\u001b[0m\u001b[1;33m,\u001b[0m\u001b[1;33m\u001b[0m\u001b[1;33m\u001b[0m\u001b[0m\n\u001b[0;32m   1246\u001b[0m             'value': value})['value']\n",
      "\u001b[1;32m~\\anaconda3\\envs\\section4project\\lib\\site-packages\\selenium\\webdriver\\remote\\webdriver.py\u001b[0m in \u001b[0;36mexecute\u001b[1;34m(self, driver_command, params)\u001b[0m\n\u001b[0;32m    422\u001b[0m         \u001b[0mresponse\u001b[0m \u001b[1;33m=\u001b[0m \u001b[0mself\u001b[0m\u001b[1;33m.\u001b[0m\u001b[0mcommand_executor\u001b[0m\u001b[1;33m.\u001b[0m\u001b[0mexecute\u001b[0m\u001b[1;33m(\u001b[0m\u001b[0mdriver_command\u001b[0m\u001b[1;33m,\u001b[0m \u001b[0mparams\u001b[0m\u001b[1;33m)\u001b[0m\u001b[1;33m\u001b[0m\u001b[1;33m\u001b[0m\u001b[0m\n\u001b[0;32m    423\u001b[0m         \u001b[1;32mif\u001b[0m \u001b[0mresponse\u001b[0m\u001b[1;33m:\u001b[0m\u001b[1;33m\u001b[0m\u001b[1;33m\u001b[0m\u001b[0m\n\u001b[1;32m--> 424\u001b[1;33m             \u001b[0mself\u001b[0m\u001b[1;33m.\u001b[0m\u001b[0merror_handler\u001b[0m\u001b[1;33m.\u001b[0m\u001b[0mcheck_response\u001b[0m\u001b[1;33m(\u001b[0m\u001b[0mresponse\u001b[0m\u001b[1;33m)\u001b[0m\u001b[1;33m\u001b[0m\u001b[1;33m\u001b[0m\u001b[0m\n\u001b[0m\u001b[0;32m    425\u001b[0m             response['value'] = self._unwrap_value(\n\u001b[0;32m    426\u001b[0m                 response.get('value', None))\n",
      "\u001b[1;32m~\\anaconda3\\envs\\section4project\\lib\\site-packages\\selenium\\webdriver\\remote\\errorhandler.py\u001b[0m in \u001b[0;36mcheck_response\u001b[1;34m(self, response)\u001b[0m\n\u001b[0;32m    245\u001b[0m                 \u001b[0malert_text\u001b[0m \u001b[1;33m=\u001b[0m \u001b[0mvalue\u001b[0m\u001b[1;33m[\u001b[0m\u001b[1;34m'alert'\u001b[0m\u001b[1;33m]\u001b[0m\u001b[1;33m.\u001b[0m\u001b[0mget\u001b[0m\u001b[1;33m(\u001b[0m\u001b[1;34m'text'\u001b[0m\u001b[1;33m)\u001b[0m\u001b[1;33m\u001b[0m\u001b[1;33m\u001b[0m\u001b[0m\n\u001b[0;32m    246\u001b[0m             \u001b[1;32mraise\u001b[0m \u001b[0mexception_class\u001b[0m\u001b[1;33m(\u001b[0m\u001b[0mmessage\u001b[0m\u001b[1;33m,\u001b[0m \u001b[0mscreen\u001b[0m\u001b[1;33m,\u001b[0m \u001b[0mstacktrace\u001b[0m\u001b[1;33m,\u001b[0m \u001b[0malert_text\u001b[0m\u001b[1;33m)\u001b[0m  \u001b[1;31m# type: ignore[call-arg]  # mypy is not smart enough here\u001b[0m\u001b[1;33m\u001b[0m\u001b[1;33m\u001b[0m\u001b[0m\n\u001b[1;32m--> 247\u001b[1;33m         \u001b[1;32mraise\u001b[0m \u001b[0mexception_class\u001b[0m\u001b[1;33m(\u001b[0m\u001b[0mmessage\u001b[0m\u001b[1;33m,\u001b[0m \u001b[0mscreen\u001b[0m\u001b[1;33m,\u001b[0m \u001b[0mstacktrace\u001b[0m\u001b[1;33m)\u001b[0m\u001b[1;33m\u001b[0m\u001b[1;33m\u001b[0m\u001b[0m\n\u001b[0m\u001b[0;32m    248\u001b[0m \u001b[1;33m\u001b[0m\u001b[0m\n\u001b[0;32m    249\u001b[0m     \u001b[1;32mdef\u001b[0m \u001b[0m_value_or_default\u001b[0m\u001b[1;33m(\u001b[0m\u001b[0mself\u001b[0m\u001b[1;33m,\u001b[0m \u001b[0mobj\u001b[0m\u001b[1;33m:\u001b[0m \u001b[0mMapping\u001b[0m\u001b[1;33m[\u001b[0m\u001b[0m_KT\u001b[0m\u001b[1;33m,\u001b[0m \u001b[0m_VT\u001b[0m\u001b[1;33m]\u001b[0m\u001b[1;33m,\u001b[0m \u001b[0mkey\u001b[0m\u001b[1;33m:\u001b[0m \u001b[0m_KT\u001b[0m\u001b[1;33m,\u001b[0m \u001b[0mdefault\u001b[0m\u001b[1;33m:\u001b[0m \u001b[0m_VT\u001b[0m\u001b[1;33m)\u001b[0m \u001b[1;33m->\u001b[0m \u001b[0m_VT\u001b[0m\u001b[1;33m:\u001b[0m\u001b[1;33m\u001b[0m\u001b[1;33m\u001b[0m\u001b[0m\n",
      "\u001b[1;31mNoSuchElementException\u001b[0m: Message: no such element: Unable to locate element: {\"method\":\"xpath\",\"selector\":\"//*[@id=\"DEFAULT0\"]/table/tbody/tr[14]/td[3]/a\"}\n  (Session info: chrome=97.0.4692.71)\nStacktrace:\nBacktrace:\n\tOrdinal0 [0x00976903+2517251]\n\tOrdinal0 [0x0090F8E1+2095329]\n\tOrdinal0 [0x00812848+1058888]\n\tOrdinal0 [0x0083D448+1233992]\n\tOrdinal0 [0x0083D63B+1234491]\n\tOrdinal0 [0x00867812+1406994]\n\tOrdinal0 [0x0085650A+1336586]\n\tOrdinal0 [0x00865BBF+1399743]\n\tOrdinal0 [0x0085639B+1336219]\n\tOrdinal0 [0x008327A7+1189799]\n\tOrdinal0 [0x00833609+1193481]\n\tGetHandleVerifier [0x00B05904+1577972]\n\tGetHandleVerifier [0x00BB0B97+2279047]\n\tGetHandleVerifier [0x00A06D09+534521]\n\tGetHandleVerifier [0x00A05DB9+530601]\n\tOrdinal0 [0x00914FF9+2117625]\n\tOrdinal0 [0x009198A8+2136232]\n\tOrdinal0 [0x009199E2+2136546]\n\tOrdinal0 [0x00923541+2176321]\n\tBaseThreadInitThunk [0x75AAFA29+25]\n\tRtlGetAppContainerNamedObjectPath [0x77C37A9E+286]\n\tRtlGetAppContainerNamedObjectPath [0x77C37A6E+238]\n"
     ]
    }
   ],
   "source": [
    "#성인 인증이 걸려 있는 노래가 있어, 로그인 및 성인 인증을 미리 받은 후 진행함\n",
    "\n",
    "#드라이버 연결\n",
    "driver = webdriver.Chrome()\n",
    "\n",
    "#대기 시간 설정\n",
    "driver.implicitly_wait(3)\n",
    "\n",
    "#로그인 url 설정\n",
    "login_url = 'https://music.bugs.co.kr/'\n",
    "\n",
    "#ID & PASSWORD 설정\n",
    "id = \"\"\"your_id@domain\"\"\"\n",
    "pw = \"\"\"your_password\"\"\"\n",
    "\n",
    "#URL로 이동\n",
    "driver.get(login_url)\n",
    "\n",
    "#로그인 실행\n",
    "driver.find_element_by_xpath('//*[@id=\"loginHeader\"]/a').click()\n",
    "driver.find_element_by_xpath('//*[@id=\"to_bugs_login\"]').click()\n",
    "driver.find_element_by_xpath('//*[@id=\"user_id\"]').send_keys(id)\n",
    "driver.find_element_by_xpath('//*[@id=\"passwd\"]').send_keys(pw)\n",
    "driver.find_element_by_xpath('//*[@id=\"frmLoginLayer\"]/div/div[1]/button').click()\n",
    "time.sleep(5)\n",
    "\n",
    "#찾을 가수 명 설정\n",
    "singer = '10CM'\n",
    "\n",
    "#검색창에 입력\n",
    "driver.find_element_by_xpath('//*[@id=\"headerSearchInput\"]').send_keys(singer)\n",
    "driver.find_element_by_xpath('//*[@id=\"hederSearchFormButton\"]').click()\n",
    "time.sleep(5)\n",
    "#곡 - 아티스트명에서 찾기 클릭\n",
    "driver.find_element_by_xpath('//*[@id=\"container\"]/section/div/fieldset/div/table/tbody/tr/td[2]/a').click()\n",
    "driver.find_element_by_xpath('//*[@id=\"additional04\"]').click()\n",
    "\n",
    "page = 1\n",
    "\n",
    "#총 노래 수 확인\n",
    "total_song_count = driver.find_element_by_xpath('//*[@id=\"container\"]/section/div/fieldset/div/table/tbody/tr/td[2]/a').text\n",
    "total_song_count = int(re.sub('\\D', '', total_song_count))\n",
    "print('총 노래의 수 : ', total_song_count)\n",
    "\n",
    "#가사 리스트 변수 할당\n",
    "lyrics = []\n",
    "\n",
    "#현재 페이지 가사 확보하는 함수\n",
    "def get_lyrics():\n",
    "    for i in range(1, 51):\n",
    "        driver.find_element_by_xpath(f'//*[@id=\"DEFAULT0\"]/table/tbody/tr[{i}]/td[3]/a').click()\n",
    "        lyric_container = driver.find_element_by_xpath('//*[@id=\"container\"]/section[2]/div/div').text\n",
    "        lyrics.append(lyric_container)\n",
    "        driver.back()\n",
    "\n",
    "#가사 가져오기\n",
    "get_lyrics()\n",
    "print('1페이지 탐색 완료')\n",
    "driver.close\n",
    "\n",
    "#더 있는 것들 가져오기\n",
    "while len(lyrics) != total_song_count:\n",
    "    print(\"총 곡 수와 크롤링한 곡 수 다름. 추가 탐색 진행\")\n",
    "    page += 1\n",
    "    print(f'{page}p 탐색')\n",
    "    url = f'https://music.bugs.co.kr/search/track?q={singer}&sort=A&page={page}&query={singer}&target=ARTIST_ONLY&flac_only=false'\n",
    "    driver.get(url)\n",
    "    get_lyrics()\n",
    "\n",
    "#종료\n",
    "driver.close\n"
   ]
  },
  {
   "cell_type": "code",
   "execution_count": 3,
   "metadata": {},
   "outputs": [
    {
     "data": {
      "text/plain": [
       "163"
      ]
     },
     "execution_count": 3,
     "metadata": {},
     "output_type": "execute_result"
    }
   ],
   "source": [
    "len(lyrics)"
   ]
  },
  {
   "cell_type": "markdown",
   "metadata": {},
   "source": [
    "2. 크롤링한 데이터 확인하고 간단하게 전처리하기   \n",
    "- 위 코드에서, 개수 단위가 아니라 페이지 단위로 설계했기 때문에 error로 마무리가 되었지만, 실제 사이트에서 곡 수와 lyrics에 저장한 수가 같아 성공적으로 크롤링 되었다고 판단했다. 어떻게 들어왔는지 확인하고, 기본적인 전처리를 실행하려 한다."
   ]
  },
  {
   "cell_type": "code",
   "execution_count": 5,
   "metadata": {},
   "outputs": [
    {
     "data": {
      "text/plain": [
       "'어린 햇살 아래서\\n뛰어놀곤 했었던\\n가쁜 숨결\\n굽이진 골목 지나\\n길을 따라가보면\\n같은 기억\\n어른이란 시간은\\n아직 어색하게도\\n나를 채워\\n많은 게 변했다 해\\n여긴 그대로인걸\\nYou’ll feel the same\\n땀에 젖어 놀았던\\n우리는 너와 난 이젠\\n돌아갈 순 없지만\\n낡아진 서랍 속에서\\n작았던 서롤 기억해\\nWhen I’m far from home\\nAlways 떠올라 난 아직도\\n반짝이던 네 두 눈\\n마주 보던 그림자\\n마주 보던 우리는\\n여기 still same\\n시간은 언제나 날\\n울리는 존재지만\\n놓질 못해\\n많은 게 더 지날 땐\\n여긴 또 하나의\\nOur home\\n그땐 우린 어딜까\\n낡아진 서랍 속에서\\n작았던 서롤 기억해\\nWhen I’m far from home\\nAlways 떠올라 난 아직도\\n반짝이던 네 두 눈\\n혼자서 숨겼던\\n널 향한 마음은\\n알게 하진 않을 거야\\n널 볼 수 있다면 그걸로 충분해\\n담을게 두 눈에 언제든 항상\\n낡아진 서랍 속에서\\n작았던 서롤 기억해\\nWhen I’m far from home\\nAlways 떠올라 난 아직도\\n반짝이던 네 두 눈\\nBugs 님이 등록해 주신 가사입니다.\\n가사 오류 제보'"
      ]
     },
     "execution_count": 5,
     "metadata": {},
     "output_type": "execute_result"
    }
   ],
   "source": [
    "lyrics[0]"
   ]
  },
  {
   "cell_type": "code",
   "execution_count": 6,
   "metadata": {},
   "outputs": [
    {
     "data": {
      "text/plain": [
       "'너의 목소리만 넘나 크게 들려\\n다른 건 아무것도 안 들리고\\n너의 눈동자만 넘나 크게 보여\\n아니 내가 정말 미친 걸까\\n하루종일 너만 생각하다 보니\\n머리가 이상해진 것 같아\\n혹시 내가 너를 좋아하게 돼버린 걸까\\n아니 내가 그냥 미친 걸까\\n너는 자꾸 이랬다 저랬다가 나를 흔들고\\n여기저기 왔다 갔다 헷갈리게 만들고\\n자꾸만 보여 꿈속에서도\\n억지로 피하려고 해도 보여\\n어디든 있어 눈감아 봐도\\n네 맘은\\n내 눈에만 보여\\n내 눈에만 보여\\n너의 목소리만 넘나 크게 들려\\n다른 건 아무것도 안 들리고\\n너의 눈동자만 넘나 크게 보여\\n아니 내가 정말 미친 걸까\\n너는 자꾸 있는 듯 없는 듯이 숨으려 하고\\n나를 피해 이리저리 도망치려 해봐도\\n자꾸만 보여 꿈속에서도\\n억지로 피하려고 해도 보여\\n어디든 있어 눈감아 봐도\\n네 맘은\\n내 눈에만 보여\\n내 눈에만 보여\\nBugs 님이 등록해 주신 가사입니다.\\n가사 오류 제보'"
      ]
     },
     "execution_count": 6,
     "metadata": {},
     "output_type": "execute_result"
    }
   ],
   "source": [
    "lyrics[10]"
   ]
  },
  {
   "cell_type": "code",
   "execution_count": 7,
   "metadata": {},
   "outputs": [
    {
     "data": {
      "text/plain": [
       "'살살살살 살살살살 흐르네 \\n창문가에 부드러운 햇살이 \\n살살살살 살살살살 거리네 \\n그대와의 꿈결같은 속삭임이 \\n오늘아침 새하얗게 밤이 녹아버렸나 \\n눈부시게 밝은 빛이 쌓이네 \\n\\n살살살살 살살살살 부르네 \\n창문가에 아침바람 노래를 \\n살살살살 살살살살 흔드네 \\n그댈 보는 어지러운 내 마음을 \\n\\n알람소리 요란하게 울지만 \\n그저 우린 일어날줄 모르네\\n언제라도 그대 날아갈까봐 \\n감고 있던 두 눈 뜨지 못하네 \\n\\n낡은 서랍장 속 비밀 일기장에 \\n빼곡히 채워놓을 수 있다면\\n작은 책가방 속 해진 주머니에 \\n영원히 가둬놓을 수 있다면\\n\\n살살살살 살살살살 흐르네 \\n살살살살 살살살살 거리네\\n음 조금씩 껴안아 감싸네\\nbsadmin56 님이 등록해 주신 가사입니다.\\n가사 오류 제보'"
      ]
     },
     "execution_count": 7,
     "metadata": {},
     "output_type": "execute_result"
    }
   ],
   "source": [
    "lyrics[100]"
   ]
  },
  {
   "cell_type": "code",
   "execution_count": 15,
   "metadata": {},
   "outputs": [
    {
     "data": {
      "text/plain": [
       "'가사 준비 중입니다. 일반 가사 신청 실시간 가사 신청\\n벅스패널이 되면 가사를 등록하실 수 있습니다. 벅스패널이란?'"
      ]
     },
     "execution_count": 15,
     "metadata": {},
     "output_type": "execute_result"
    }
   ],
   "source": [
    "lyrics[140]"
   ]
  },
  {
   "cell_type": "code",
   "execution_count": 9,
   "metadata": {},
   "outputs": [
    {
     "data": {
      "text/plain": [
       "'가사 준비 중입니다. 일반 가사 신청 실시간 가사 신청\\n벅스패널이 되면 가사를 등록하실 수 있습니다. 벅스패널이란?'"
      ]
     },
     "execution_count": 9,
     "metadata": {},
     "output_type": "execute_result"
    }
   ],
   "source": [
    "lyrics[162]"
   ]
  },
  {
   "cell_type": "code",
   "execution_count": 16,
   "metadata": {},
   "outputs": [
    {
     "name": "stdout",
     "output_type": "stream",
     "text": [
      "남은 곡 수 :  132\n"
     ]
    }
   ],
   "source": [
    "#가사가 없는 경우, 리스트에서 삭제\n",
    "lyrics = [text for text in lyrics if text != '가사 준비 중입니다. 일반 가사 신청 실시간 가사 신청\\n벅스패널이 되면 가사를 등록하실 수 있습니다. 벅스패널이란?']\n",
    "print('남은 곡 수 : ', len(lyrics))"
   ]
  },
  {
   "cell_type": "code",
   "execution_count": 17,
   "metadata": {},
   "outputs": [],
   "source": [
    "#올바르게 등록된 가사에서, '님이 등록해 주신 가사입니다.\\n가사 오류 제보'을 제거해야 함\n",
    "delete_sentence = '님이 등록해 주신 가사입니다.\\n가사 오류 제보'\n",
    "for i, k in enumerate(lyrics):\n",
    "    if delete_sentence in k: \n",
    "        lyrics[i] = k.strip(delete_sentence)"
   ]
  },
  {
   "cell_type": "code",
   "execution_count": 18,
   "metadata": {},
   "outputs": [
    {
     "data": {
      "text/plain": [
       "'어린 햇살 아래서\\n뛰어놀곤 했었던\\n가쁜 숨결\\n굽이진 골목 지나\\n길을 따라가보면\\n같은 기억\\n어른이란 시간은\\n아직 어색하게도\\n나를 채워\\n많은 게 변했다 해\\n여긴 그대로인걸\\nYou’ll feel the same\\n땀에 젖어 놀았던\\n우리는 너와 난 이젠\\n돌아갈 순 없지만\\n낡아진 서랍 속에서\\n작았던 서롤 기억해\\nWhen I’m far from home\\nAlways 떠올라 난 아직도\\n반짝이던 네 두 눈\\n마주 보던 그림자\\n마주 보던 우리는\\n여기 still same\\n시간은 언제나 날\\n울리는 존재지만\\n놓질 못해\\n많은 게 더 지날 땐\\n여긴 또 하나의\\nOur home\\n그땐 우린 어딜까\\n낡아진 서랍 속에서\\n작았던 서롤 기억해\\nWhen I’m far from home\\nAlways 떠올라 난 아직도\\n반짝이던 네 두 눈\\n혼자서 숨겼던\\n널 향한 마음은\\n알게 하진 않을 거야\\n널 볼 수 있다면 그걸로 충분해\\n담을게 두 눈에 언제든 항상\\n낡아진 서랍 속에서\\n작았던 서롤 기억해\\nWhen I’m far from home\\nAlways 떠올라 난 아직도\\n반짝이던 네 두 눈\\nBugs'"
      ]
     },
     "execution_count": 18,
     "metadata": {},
     "output_type": "execute_result"
    }
   ],
   "source": [
    "lyrics[0]"
   ]
  },
  {
   "cell_type": "code",
   "execution_count": 21,
   "metadata": {},
   "outputs": [],
   "source": [
    "#올바르게 등론된 가사에서, '\\n'을 삭제해야 함\n",
    "delete_word = '\\n'\n",
    "for i, k in enumerate(lyrics):\n",
    "    if delete_word in k:\n",
    "        lyrics[i] = k.replace(\"\\n\", \" \")"
   ]
  },
  {
   "cell_type": "code",
   "execution_count": 22,
   "metadata": {},
   "outputs": [
    {
     "data": {
      "text/plain": [
       "'어린 햇살 아래서 뛰어놀곤 했었던 가쁜 숨결 굽이진 골목 지나 길을 따라가보면 같은 기억 어른이란 시간은 아직 어색하게도 나를 채워 많은 게 변했다 해 여긴 그대로인걸 You’ll feel the same 땀에 젖어 놀았던 우리는 너와 난 이젠 돌아갈 순 없지만 낡아진 서랍 속에서 작았던 서롤 기억해 When I’m far from home Always 떠올라 난 아직도 반짝이던 네 두 눈 마주 보던 그림자 마주 보던 우리는 여기 still same 시간은 언제나 날 울리는 존재지만 놓질 못해 많은 게 더 지날 땐 여긴 또 하나의 Our home 그땐 우린 어딜까 낡아진 서랍 속에서 작았던 서롤 기억해 When I’m far from home Always 떠올라 난 아직도 반짝이던 네 두 눈 혼자서 숨겼던 널 향한 마음은 알게 하진 않을 거야 널 볼 수 있다면 그걸로 충분해 담을게 두 눈에 언제든 항상 낡아진 서랍 속에서 작았던 서롤 기억해 When I’m far from home Always 떠올라 난 아직도 반짝이던 네 두 눈 Bugs'"
      ]
     },
     "execution_count": 22,
     "metadata": {},
     "output_type": "execute_result"
    }
   ],
   "source": [
    "lyrics[0]"
   ]
  },
  {
   "cell_type": "code",
   "execution_count": 56,
   "metadata": {},
   "outputs": [
    {
     "data": {
      "text/plain": [
       "'어린 햇살 아래서 뛰어놀곤 했었던 가쁜 숨결 굽이진 골목 지나 길을 따라가보면 같은 기억 어른이란 시간은 아직 어색하게도 나를 채워 많은 게 변했다 해 여긴 그대로인걸 You’ll feel the same 땀에 젖어 놀았던 우리는 너와 난 이젠 돌아갈 순 없지만 낡아진 서랍 속에서 작았던 서롤 기억해 When I’m far from home Always 떠올라 난 아직도 반짝이던 네 두 눈 마주 보던 그림자 마주 보던 우리는 여기 still same 시간은 언제나 날 울리는 존재지만 놓질 못해 많은 게 더 지날 땐 여긴 또 하나의 Our home 그땐 우린 어딜까 낡아진 서랍 속에서 작았던 서롤 기억해 When I’m far from home Always 떠올라 난 아직도 반짝이던 네 두 눈 혼자서 숨겼던 널 향한 마음은 알게 하진 않을 거야 널 볼 수 있다면 그걸로 충분해 담을게 두 눈에 언제든 항상 낡아진 서랍 속에서 작았던 서롤 기억해 When I’m far from home Always 떠올라 난 아직도 반짝이던 네 두 눈'"
      ]
     },
     "execution_count": 56,
     "metadata": {},
     "output_type": "execute_result"
    }
   ],
   "source": [
    "#올바르게 등론된 가사에서, 가사 업로더(주로 'Bugs'이지만 다른 사람들도 있음)를 삭제해야 함. 리스트(글자 기준) -> 문자열 -> 리스트(띄어쓰기 기준) -> 제거\n",
    "lyrics_complete = []\n",
    "for i in lyrics:\n",
    "    temp_lyrics = ''.join(i)\n",
    "    temp_lyrics = temp_lyrics.split()\n",
    "    temp_lyrics = temp_lyrics[0:-1]\n",
    "    temp_lyrics = ' '.join(temp_lyrics)\n",
    "    lyrics_complete.append(temp_lyrics)\n",
    "\n",
    "lyrics_complete[0]"
   ]
  },
  {
   "cell_type": "code",
   "execution_count": 64,
   "metadata": {},
   "outputs": [
    {
     "data": {
      "text/plain": [
       "'어린 햇살 아래서 뛰어놀곤 했었던 가쁜 숨결 굽이진 골목 지나 길을 따라가보면 같은 기억 어른이란 시간은 아직 어색하게도 나를 채워 많은 게 변했다 해 여긴 그대로인걸 youll feel the same 땀에 젖어 놀았던 우리는 너와 난 이젠 돌아갈 순 없지만 낡아진 서랍 속에서 작았던 서롤 기억해 when im far from home always 떠올라 난 아직도 반짝이던 네 두 눈 마주 보던 그림자 마주 보던 우리는 여기 still same 시간은 언제나 날 울리는 존재지만 놓질 못해 많은 게 더 지날 땐 여긴 또 하나의 our home 그땐 우린 어딜까 낡아진 서랍 속에서 작았던 서롤 기억해 when im far from home always 떠올라 난 아직도 반짝이던 네 두 눈 혼자서 숨겼던 널 향한 마음은 알게 하진 않을 거야 널 볼 수 있다면 그걸로 충분해 담을게 두 눈에 언제든 항상 낡아진 서랍 속에서 작았던 서롤 기억해 when im far from home always 떠올라 난 아직도 반짝이던 네 두 눈'"
      ]
     },
     "execution_count": 64,
     "metadata": {},
     "output_type": "execute_result"
    }
   ],
   "source": [
    "#기타 간단한 전처리\n",
    "lyrics_complete = [i.lower() for i in lyrics_complete] #영어 소문자\n",
    "lyrics_complete = [re.sub(\"[-=+,#/\\?:^.@*\\\"※~ㆍ!』‘|\\(\\)\\[\\]`\\'…》\\”\\“\\’·]\", \"\", i) for i in lyrics_complete] #특수문자(코러스 등에 쓰이는 (), i'm 등에 쓰이는 ') 제거\n",
    "lyrics_complete[0]\n"
   ]
  },
  {
   "cell_type": "markdown",
   "metadata": {},
   "source": [
    "3. 저장   \n",
    "- 하나의 .ipynb 혹은 .py 파일보다, 단계별로 진행하고 싶어 현재까지 상태(데이터를 불러온 상태)를 저장하고 다른 파일에서 다음 단계를 작성하기로 결정하였다."
   ]
  },
  {
   "cell_type": "code",
   "execution_count": 57,
   "metadata": {},
   "outputs": [],
   "source": [
    "#라이브러리 import\n",
    "import pickle"
   ]
  },
  {
   "cell_type": "code",
   "execution_count": 65,
   "metadata": {},
   "outputs": [],
   "source": [
    "#피클로 저장\n",
    "with open('data.pickle', 'wb') as f:\n",
    "    pickle.dump(lyrics_complete, f)"
   ]
  },
  {
   "cell_type": "code",
   "execution_count": 66,
   "metadata": {},
   "outputs": [],
   "source": [
    "#텍스트로 저장\n",
    "with open('data.txt', 'w', encoding='UTF-8') as f:\n",
    "    for i in lyrics_complete:\n",
    "        for k in i:\n",
    "            f.write(k+'')"
   ]
  }
 ],
 "metadata": {
  "interpreter": {
   "hash": "9efe4e546d06fb70330cc2ef1b74164090806f6e5821eec9578b2609166785fd"
  },
  "kernelspec": {
   "display_name": "Python 3.8.12 64-bit ('section4project': conda)",
   "language": "python",
   "name": "python3"
  },
  "language_info": {
   "codemirror_mode": {
    "name": "ipython",
    "version": 3
   },
   "file_extension": ".py",
   "mimetype": "text/x-python",
   "name": "python",
   "nbconvert_exporter": "python",
   "pygments_lexer": "ipython3",
   "version": "3.8.12"
  },
  "orig_nbformat": 4
 },
 "nbformat": 4,
 "nbformat_minor": 2
}
