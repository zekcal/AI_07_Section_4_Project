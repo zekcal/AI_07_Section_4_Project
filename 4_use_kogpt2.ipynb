{
 "cells": [
  {
   "cell_type": "markdown",
   "metadata": {},
   "source": [
    "1. 파인 튜닝을 위한 데이터 확보\n",
    "- 1_web_crawl.ipynb에서 얻었던 token.txt를 ainize.ai[링크](https://ainize.ai)를 통해 KoGPT2를 학습시켜보았다. 그리고 이를 불러와 학습에 활용해보았다."
   ]
  },
  {
   "cell_type": "code",
   "execution_count": 1,
   "metadata": {},
   "outputs": [],
   "source": [
    "#라이브러리import\n",
    "import requests\n",
    "import json"
   ]
  },
  {
   "cell_type": "code",
   "execution_count": 2,
   "metadata": {},
   "outputs": [],
   "source": [
    "#아직근데 학습안됨 흐극 "
   ]
  }
 ],
 "metadata": {
  "interpreter": {
   "hash": "9efe4e546d06fb70330cc2ef1b74164090806f6e5821eec9578b2609166785fd"
  },
  "kernelspec": {
   "display_name": "Python 3.8.12 64-bit ('section4project': conda)",
   "language": "python",
   "name": "python3"
  },
  "language_info": {
   "codemirror_mode": {
    "name": "ipython",
    "version": 3
   },
   "file_extension": ".py",
   "mimetype": "text/x-python",
   "name": "python",
   "nbconvert_exporter": "python",
   "pygments_lexer": "ipython3",
   "version": "3.8.12"
  },
  "orig_nbformat": 4
 },
 "nbformat": 4,
 "nbformat_minor": 2
}
