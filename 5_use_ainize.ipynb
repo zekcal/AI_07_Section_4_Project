{
 "cells": [
  {
   "cell_type": "markdown",
   "metadata": {},
   "source": [
    "# 1. Ainize 사용\n",
    "- [ainize](https://ainize.ai/teachable-nlp)라는 사이트와 API를 활용해, 코드를 넣지 않고 파인 튜닝을 진행해보았습니다. 사전에 사이트에서 data.txt를 업로드하였습니다. [유투브](https://www.youtube.com/watch?v=QxgXZNoqQrY)를 통해 사이트와 활용법을 알게 되었습니다."
   ]
  },
  {
   "cell_type": "code",
   "execution_count": 1,
   "metadata": {},
   "outputs": [],
   "source": [
    "#라이브러리 import\n",
    "import requests\n",
    "import json"
   ]
  },
  {
   "cell_type": "code",
   "execution_count": 2,
   "metadata": {},
   "outputs": [
    {
     "data": {
      "text/plain": [
       "['쓸쓸한 밤은 어딜 가나 별 볼일 없다가도 설레는 마음만은 있어요 혼자 있을 때는 혼자 있고 싶어요 나 혼자 있잖아요',\n",
       " '쓸쓸한 밤과 별이 쏟아지네 밤이 깊어가면서 내 마음도 잠들지 그러네 밤이 깊어가면서 내 마음도 잠들지 그랬네',\n",
       " '쓸쓸한 밤이나 어제는 그대는 늘 어제도 밤들이 하얗다고 해서 내 마음은 하얗다고 해서 모두 다 어두운 밤을 잊고 그대에게 쏟아지던 내',\n",
       " '쓸쓸한 밤이면 그대 그대를 그대 다시 보잔 것도 너의 이불 속에 꼭꼭 숨어주세요 그대 영원히 사라지지 않을 거예요 그대',\n",
       " '쓸쓸한 밤 우리는 웃을래 울고있었어 안아주지 않았어 안아주지 않았어 안아주지 않았어 안아주지 않았어',\n",
       " '쓸쓸한 밤 우리를 놔두고 갈 순 없지만 그래도 그걸 잊지 못해 내가 사랑하지 않는 게 우리 너를 생각지 못해 나는 아무것도 하고 싶어 하지']"
      ]
     },
     "execution_count": 2,
     "metadata": {},
     "output_type": "execute_result"
    }
   ],
   "source": [
    "r = requests.post(\n",
    "    'https://train-u4501545coglg4rxrdpo-gpt2-train-teachable-ainize.endpoint.ainize.ai/predictions/gpt-2-ko-small-finetune',\n",
    "    headers={\n",
    "      'Content-Type': 'application/json'  \n",
    "    },\n",
    "    data=json.dumps({\n",
    "        'text': '쓸쓸한 밤',\n",
    "        'num_samples': 6,\n",
    "        'length': 32\n",
    "    }))\n",
    "\n",
    "r.json()"
   ]
  },
  {
   "cell_type": "code",
   "execution_count": 3,
   "metadata": {},
   "outputs": [
    {
     "name": "stdout",
     "output_type": "stream",
     "text": [
      "쓸쓸한 밤은 어딜 가나 별 볼일 없다가도 설레는 마음만은 있어요 혼자 있을 때는 혼자 있고 싶어요 나 혼자 있잖아요\n",
      "쓸쓸한 밤과 별이 쏟아지네 밤이 깊어가면서 내 마음도 잠들지 그러네 밤이 깊어가면서 내 마음도 잠들지 그랬네\n",
      "쓸쓸한 밤이나 어제는 그대는 늘 어제도 밤들이 하얗다고 해서 내 마음은 하얗다고 해서 모두 다 어두운 밤을 잊고 그대에게 쏟아지던 내\n",
      "쓸쓸한 밤이면 그대 그대를 그대 다시 보잔 것도 너의 이불 속에 꼭꼭 숨어주세요 그대 영원히 사라지지 않을 거예요 그대\n",
      "쓸쓸한 밤 우리는 웃을래 울고있었어 안아주지 않았어 안아주지 않았어 안아주지 않았어 안아주지 않았어\n",
      "쓸쓸한 밤 우리를 놔두고 갈 순 없지만 그래도 그걸 잊지 못해 내가 사랑하지 않는 게 우리 너를 생각지 못해 나는 아무것도 하고 싶어 하지\n"
     ]
    }
   ],
   "source": [
    "#좀 더 보기 좋게\n",
    "result = r.json()\n",
    "\n",
    "for r in result:\n",
    "    print(r)"
   ]
  },
  {
   "cell_type": "code",
   "execution_count": 4,
   "metadata": {},
   "outputs": [
    {
     "name": "stdout",
     "output_type": "stream",
     "text": [
      "너를 생각하는 오늘의 난 괜찮아 이제 집에 가는 내내 매일 이렇게 웃고 웃고 웃어야겠지 내가 뭐가 아쉬운지 내가 더 잘\n",
      "너를 생각하는 오늘의 난 너무 아름답지 않아 미안해 널 버리고 싶지 않아 나는 나의 어떤 im도 날 용서치 않을 거야 난 너를\n",
      "너를 생각하는 오늘의 난 지금 당신 옆에 내 마음을 담은 네 손을 마주 잡은 그대야 너를 향한 사랑 그리고 네가 꿈꾸는 이 세상 그 누구도 사랑\n",
      "너를 생각하는 오늘의 난 지금 어디에 이글이 서글서글 밤하늘 그리운 눈동자가 이글의 저주에 떨리어 그 어느새 눈이\n",
      "너를 생각하는 오늘의 난 우리 둘 셋이 같은 꿈 속에 살아 있어 행복할 수는 없군 너의 꿈 속에서 너를 생각하네 나는 너의 눈\n",
      "너를 생각하는 오늘의 난 이런 말 해줘요 난 정말 널 사랑하는 말 해줘요 난 너무 바래서 견딜 수가 없어요 난 괜찮아\n"
     ]
    }
   ],
   "source": [
    "#다른 말도 넣어보기\n",
    "r = requests.post(\n",
    "    'https://train-u4501545coglg4rxrdpo-gpt2-train-teachable-ainize.endpoint.ainize.ai/predictions/gpt-2-ko-small-finetune',\n",
    "    headers={\n",
    "      'Content-Type': 'application/json'  \n",
    "    },\n",
    "    data=json.dumps({\n",
    "        'text': '너를 생각하는 오늘의 난',\n",
    "        'num_samples': 6,\n",
    "        'length': 32\n",
    "    }))\n",
    "\n",
    "r.json()\n",
    "\n",
    "#좀 더 보기 좋게\n",
    "result = r.json()\n",
    "\n",
    "for r in result:\n",
    "    print(r)"
   ]
  },
  {
   "cell_type": "code",
   "execution_count": 5,
   "metadata": {},
   "outputs": [
    {
     "name": "stdout",
     "output_type": "stream",
     "text": [
      "사랑해 beautiful happen it beautiful beautiful heart happ\n",
      "사랑해 오늘밤 새워 울지 마라 하루살이도 이럴까 눈물이 흐른다고 해 오늘밤을 행복하게 살아야지 그대는 영원히 살 수\n",
      "사랑해 누구를 위해 그댈 그렇게 사랑해야지 사랑해 누구를 위해 그댈 그렇게 사랑해야지 사랑해 누구를 위해 그댈 그렇게 사랑해야\n",
      "사랑해 너와 함께 있어줘 고마워 너를 사랑해 꼭 껴안고 싶었어 너는 언제나 나를 사랑하는 것처럼 보여줘 고마워\n",
      "사랑해 난 알아요 나는 알아요 내가 제일 좋아하는 아침을 깨워요 나는 줘요 내가 제일 좋아하는 것을 먹어봐야죠 내가 제일 좋아하는 것은\n",
      "사랑해줘요 너무 보고 싶은 사람은 없어요 내가 할 수 있어요 내 곁에 내 곁에 있어줘요 나만 혼자 있어줘요 내가 너무 보고 싶\n"
     ]
    }
   ],
   "source": [
    "#다른 말도 넣어보기\n",
    "r = requests.post(\n",
    "    'https://train-u4501545coglg4rxrdpo-gpt2-train-teachable-ainize.endpoint.ainize.ai/predictions/gpt-2-ko-small-finetune',\n",
    "    headers={\n",
    "      'Content-Type': 'application/json'  \n",
    "    },\n",
    "    data=json.dumps({\n",
    "        'text': '사랑해',\n",
    "        'num_samples': 6,\n",
    "        'length': 32\n",
    "    }))\n",
    "\n",
    "r.json()\n",
    "\n",
    "#좀 더 보기 좋게\n",
    "result = r.json()\n",
    "\n",
    "for r in result:\n",
    "    print(r)"
   ]
  }
 ],
 "metadata": {
  "interpreter": {
   "hash": "9efe4e546d06fb70330cc2ef1b74164090806f6e5821eec9578b2609166785fd"
  },
  "kernelspec": {
   "display_name": "Python 3.8.12 64-bit ('section4project': conda)",
   "language": "python",
   "name": "python3"
  },
  "language_info": {
   "codemirror_mode": {
    "name": "ipython",
    "version": 3
   },
   "file_extension": ".py",
   "mimetype": "text/x-python",
   "name": "python",
   "nbconvert_exporter": "python",
   "pygments_lexer": "ipython3",
   "version": "3.8.12"
  },
  "orig_nbformat": 4
 },
 "nbformat": 4,
 "nbformat_minor": 2
}
